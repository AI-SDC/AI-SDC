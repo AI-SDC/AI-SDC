{
 "cells": [
  {
   "cell_type": "markdown",
   "id": "5b5bd89b-c0f9-476a-80a2-79ad044e11d2",
   "metadata": {},
   "source": [
    "# Notebook for developing code to go into structural_attack class"
   ]
  },
  {
   "cell_type": "code",
   "execution_count": 1,
   "id": "dd7f7614-cbac-43a5-bf90-a59712eca953",
   "metadata": {},
   "outputs": [],
   "source": [
    "import sys\n",
    "import os\n",
    "\n",
    "\n",
    "#for development use local copy of aisdc in preference to installed version\n",
    "sys.path.insert(0,os.path.abspath(\"..\"))\n"
   ]
  },
  {
   "cell_type": "code",
   "execution_count": 4,
   "id": "711cbd17-2e8e-452c-b9be-0b662579e333",
   "metadata": {},
   "outputs": [],
   "source": [
    "import json\n",
    "\n",
    "import numpy as np\n",
    "from sklearn.datasets import load_breast_cancer\n",
    "from sklearn.model_selection import train_test_split\n",
    "from sklearn.tree import DecisionTreeClassifier\n",
    "from sklearn.ensemble import RandomForestClassifier\n",
    "from xgboost import XGBClassifier\n",
    "from sklearn.svm import SVC\n",
    "\n",
    "\n",
    "from aisdc.attacks.structural_attack import StructuralAttack  # pylint: disable = import-error\n",
    "from aisdc.attacks.target import Target  # pylint: disable = import-error"
   ]
  },
  {
   "cell_type": "code",
   "execution_count": 5,
   "id": "b761fd2e-4a96-49f3-bbc4-888e26382c15",
   "metadata": {},
   "outputs": [],
   "source": [
    "# [Researcher] Access a dataset\n",
    "X, y = load_breast_cancer(return_X_y=True, as_frame=False)\n",
    "\n",
    "# [Researcher] Split into training and test sets\n",
    "train_X, test_X, train_y, test_y = train_test_split(X, y, test_size=0.3)"
   ]
  },
  {
   "cell_type": "code",
   "execution_count": 50,
   "id": "5812a582-0534-42bc-a727-3dff1d3e3938",
   "metadata": {},
   "outputs": [],
   "source": [
    "# [Researcher] Define the classifier\n",
    "def get_target(modeltype:str)->Target:\n",
    "    #these should be handled\n",
    "    if modeltype =='dt':\n",
    "        target_model = DecisionTreeClassifier(max_depth=3,min_samples_leaf = 10)\n",
    "    elif modeltype =='rf':\n",
    "        target_model = RandomForestClassifier()\n",
    "    elif modeltype =='xgb':\n",
    "        target_model = XGBClassifier()\n",
    "    # should get polite error but not DoF yet    \n",
    "    elif modeltype == 'svc' :\n",
    "        target_model = SVC()\n",
    "    else:\n",
    "        raise NotImplementedError('model type passed to get_model unknown')\n",
    "        \n",
    "    # [Researcher] Train the classifier\n",
    "    target_model.fit(train_X, train_y)\n",
    "\n",
    "    # [Researcher] Provide the model and the train and test data to the TRE\n",
    "\n",
    "    # [TRE] Compute the predictions on the training and test sets\n",
    "    #train_preds = target_model.predict_proba(train_X)\n",
    "    #test_preds = target_model.predict_proba(test_X)\n",
    "\n",
    "    # [TRE / Researcher] Wrap the model and data in a Target object\n",
    "    target = Target(\n",
    "        model=target_model)\n",
    "    target.add_processed_data(train_X, train_y, test_X, test_y)\n",
    "    \n",
    "    return target"
   ]
  },
  {
   "cell_type": "code",
   "execution_count": 51,
   "id": "c4821ec0-f718-45f3-8912-3fcf69056e4e",
   "metadata": {},
   "outputs": [],
   "source": [
    "import importlib\n",
    "import aisdc.attacks.structural_attack\n",
    "importlib.reload(aisdc.attacks.structural_attack)\n",
    "from aisdc.attacks.structural_attack import StructuralAttack"
   ]
  },
  {
   "cell_type": "code",
   "execution_count": 52,
   "id": "75e47ca0-1266-475c-8081-e28afd40d1e4",
   "metadata": {},
   "outputs": [
    {
     "name": "stderr",
     "output_type": "stream",
     "text": [
      "INFO:acro:version: 0.4.2\n",
      "INFO:acro:config: {'safe_threshold': 10, 'safe_dof_threshold': 10, 'safe_nk_n': 2, 'safe_nk_k': 0.9, 'safe_pratio_p': 0.1, 'check_missing_values': False}\n",
      "INFO:acro:automatic suppression: False\n",
      "INFO:structural_attack:Thresholds for count 10 and DoF 10\n",
      "INFO:structural_attack:degrees of freedom for this decision tree is 386,DoF risk is 0\n",
      "INFO:structural_attack:minimum k-anonymity for this tree is 10k-anonymity risk is 0\n",
      "INFO:structural_attack: for this tree there are 5 problematic regions so class disclosure risk = 1\n"
     ]
    },
    {
     "name": "stdout",
     "output_type": "stream",
     "text": [
      "=====dt ======\n",
      "None\n"
     ]
    }
   ],
   "source": [
    "tree_types = ['dt']#,'rf','xgb','svc','other']\n",
    "\n",
    "for mytype in tree_types:\n",
    "    print( f'====={mytype} ======')\n",
    "    target = get_target(mytype)\n",
    "    myattack = StructuralAttack()\n",
    "    ret= myattack.attack(target)\n",
    "\n",
    "    print(ret)"
   ]
  },
  {
   "cell_type": "code",
   "execution_count": null,
   "id": "0ea3c6ac-66ee-457e-84ca-bd4727daa0f4",
   "metadata": {},
   "outputs": [],
   "source": []
  }
 ],
 "metadata": {
  "kernelspec": {
   "display_name": "sprint1",
   "language": "python",
   "name": "sprint1"
  },
  "language_info": {
   "codemirror_mode": {
    "name": "ipython",
    "version": 3
   },
   "file_extension": ".py",
   "mimetype": "text/x-python",
   "name": "python",
   "nbconvert_exporter": "python",
   "pygments_lexer": "ipython3",
   "version": "3.10.11"
  }
 },
 "nbformat": 4,
 "nbformat_minor": 5
}
