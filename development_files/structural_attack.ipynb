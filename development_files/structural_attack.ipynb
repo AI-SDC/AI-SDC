{
 "cells": [
  {
   "cell_type": "markdown",
   "id": "5b5bd89b-c0f9-476a-80a2-79ad044e11d2",
   "metadata": {},
   "source": [
    "# Notebook for developing code to go into structural_attack class"
   ]
  },
  {
   "cell_type": "code",
   "execution_count": 2,
   "id": "dd7f7614-cbac-43a5-bf90-a59712eca953",
   "metadata": {},
   "outputs": [],
   "source": [
    "import sys\n",
    "import os\n",
    "\n",
    "\n",
    "#for development use local copy of aisdc in preference to installed version\n",
    "sys.path.insert(0,os.path.abspath(\"..\"))\n"
   ]
  },
  {
   "cell_type": "code",
   "execution_count": 3,
   "id": "711cbd17-2e8e-452c-b9be-0b662579e333",
   "metadata": {},
   "outputs": [],
   "source": [
    "import json\n",
    "\n",
    "import numpy as np\n",
    "from sklearn.datasets import load_breast_cancer\n",
    "from sklearn.model_selection import train_test_split\n",
    "from sklearn.tree import DecisionTreeClassifier\n",
    "from sklearn.ensemble import RandomForestClassifier\n",
    "from xgboost import XGBClassifier\n",
    "from sklearn.svm import SVC\n",
    "\n",
    "\n",
    "\n",
    "\n",
    "from aisdc.attacks.structural_attack import StructuralAttack  # pylint: disable = import-error\n",
    "from aisdc.attacks.target import Target  # pylint: disable = import-error"
   ]
  },
  {
   "cell_type": "markdown",
   "id": "536bf3bd-b5cc-4c8e-abed-bcd6dcfdf96e",
   "metadata": {},
   "source": [
    "## helper function for test"
   ]
  },
  {
   "cell_type": "code",
   "execution_count": 20,
   "id": "b761fd2e-4a96-49f3-bbc4-888e26382c15",
   "metadata": {},
   "outputs": [],
   "source": [
    "def get_target(modeltype:str, **kwargs)->Target:\n",
    "    \"\"\" loads dataset and creates target of the desired type\"\"\"\n",
    "\n",
    "    X, y = load_breast_cancer(return_X_y=True, as_frame=False)\n",
    "    train_X, test_X, train_y, test_y = train_test_split(X, y, test_size=0.3)\n",
    "    \n",
    "    #these types should be handled\n",
    "    if modeltype =='dt':\n",
    "        target_model = DecisionTreeClassifier(**kwargs)\n",
    "    elif modeltype =='rf':\n",
    "        target_model = RandomForestClassifier(**kwargs)\n",
    "    elif modeltype =='xgb':\n",
    "        target_model = XGBClassifier(**kwargs)\n",
    "    # should get polite error but not DoF yet    \n",
    "    elif modeltype == 'svc' :\n",
    "        target_model = SVC(**kwargs)\n",
    "    else:\n",
    "        raise NotImplementedError('model type passed to get_model unknown')\n",
    "        \n",
    "    # Train the classifier\n",
    "    target_model.fit(train_X, train_y)\n",
    "\n",
    "    #  Wrap the model and data in a Target object\n",
    "    target = Target(\n",
    "        model=target_model)\n",
    "    target.add_processed_data(train_X, train_y, test_X, test_y)\n",
    "    \n",
    "    return target"
   ]
  },
  {
   "cell_type": "code",
   "execution_count": 66,
   "id": "c4821ec0-f718-45f3-8912-3fcf69056e4e",
   "metadata": {},
   "outputs": [],
   "source": [
    "import importlib\n",
    "import aisdc.attacks.structural_attack\n",
    "importlib.reload(aisdc.attacks.structural_attack)\n",
    "from aisdc.attacks.structural_attack import StructuralAttack"
   ]
  },
  {
   "cell_type": "code",
   "execution_count": 67,
   "id": "8413ddf8-730f-4bf6-8299-7e01dc4806e3",
   "metadata": {},
   "outputs": [],
   "source": [
    "def test_dt():\n",
    "    \"\"\" test for decision tree classifier \"\"\"\n",
    "    \n",
    "    # 'non' disclosive'\n",
    "    param_dict = {'max_depth': 1,\n",
    "                  'min_samples_leaf':150\n",
    "                 }\n",
    "    target = get_target(\"dt\", **param_dict)\n",
    "    myattack = StructuralAttack()\n",
    "    myattack.attack(target)\n",
    "    assert myattack.DoF_risk ==0 ,\"should be no DoF risk with devision stump\"\n",
    "    assert myattack.k_anonymity_risk ==0, 'should be no k-anonymity risk with min_samples_leaf 150'\n",
    "    assert myattack.class_disclosure_risk ==0,'no class disclsoure risk for stump with min samles leaf 150'\n",
    "    assert myattack.unnecessary_risk ==0, 'not unnecessary risk if max_depth < 3.5'\n",
    "    \n",
    "    # highly disclosive\n",
    "    param_dict = {'max_depth': None,\n",
    "                  'min_samples_leaf':1,\n",
    "                  'min_samples_split': 2\n",
    "                 }\n",
    "    target = get_target(\"dt\", **param_dict)\n",
    "    myattack = StructuralAttack()\n",
    "    myattack.attack(target)\n",
    "    assert myattack.DoF_risk ==0 ,\"should be no DoF risk with decision stump\"\n",
    "    assert myattack.k_anonymity_risk ==1, 'should be  k-anonymity risk with unlimited depth and min_samples_leaf 5'\n",
    "    assert myattack.class_disclosure_risk ==1,'should be class disclsoure risk with unlimited depth and min_samples_leaf 5'\n",
    "    assert myattack.unnecessary_risk ==1, ' unnecessary risk with unlimited depth and min_samples_leaf 5'"
   ]
  },
  {
   "cell_type": "code",
   "execution_count": 68,
   "id": "215781af-a74d-4300-b572-1a9f696457b8",
   "metadata": {},
   "outputs": [
    {
     "name": "stderr",
     "output_type": "stream",
     "text": [
      "INFO:acro:version: 0.4.2\n",
      "INFO:acro:config: {'safe_threshold': 10, 'safe_dof_threshold': 10, 'safe_nk_n': 2, 'safe_nk_k': 0.9, 'safe_pratio_p': 0.1, 'check_missing_values': False}\n",
      "INFO:acro:automatic suppression: False\n",
      "INFO:structural_attack:Thresholds for count 10 and DoF 10\n",
      "INFO:acro:version: 0.4.2\n",
      "INFO:acro:config: {'safe_threshold': 10, 'safe_dof_threshold': 10, 'safe_nk_n': 2, 'safe_nk_k': 0.9, 'safe_pratio_p': 0.1, 'check_missing_values': False}\n",
      "INFO:acro:automatic suppression: False\n",
      "INFO:structural_attack:Thresholds for count 10 and DoF 10\n"
     ]
    }
   ],
   "source": [
    "test_dt()"
   ]
  },
  {
   "cell_type": "code",
   "execution_count": null,
   "id": "3d9fc566-9c2f-468f-b664-41ff71fa366f",
   "metadata": {},
   "outputs": [],
   "source": []
  }
 ],
 "metadata": {
  "kernelspec": {
   "display_name": "sprint1",
   "language": "python",
   "name": "sprint1"
  },
  "language_info": {
   "codemirror_mode": {
    "name": "ipython",
    "version": 3
   },
   "file_extension": ".py",
   "mimetype": "text/x-python",
   "name": "python",
   "nbconvert_exporter": "python",
   "pygments_lexer": "ipython3",
   "version": "3.10.11"
  }
 },
 "nbformat": 4,
 "nbformat_minor": 5
}
