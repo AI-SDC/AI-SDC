{
    "cells": [
        {
            "cell_type": "markdown",
            "id": "6d9366ac",
            "metadata": {},
            "source": [
                "# Safe Keras Notebook \n",
                "### First set some path variables: \n",
                "- this notebook expects to find the repository root in a folder GitHub/AI-SDC/AI-SDC within your home directory. \n",
                "- **You should change this** by editing the last sys.path.append line to reflect where the repository root is found on your system"
            ]
        },
        {
            "cell_type": "code",
            "execution_count": null,
            "id": "f96259b1",
            "metadata": {},
            "outputs": [],
            "source": [
                "import sys\n",
                "import os\n",
                "\n",
                "from os.path import expanduser\n",
                "\n",
                "ROOT_DIR = os.path.dirname(os.path.dirname(os.path.abspath(\"\")))\n",
                "sys.path.append(ROOT_DIR)\n",
                "home = expanduser(\"~\")\n",
                "sys.path.append(os.path.abspath(home + \"/GitHub/AI-SDC/AI-SDC\"))\n",
                "\n",
                "# sys.path.append(os.path.abspath(\"..\"))"
            ]
        },
        {
            "cell_type": "code",
            "execution_count": 2,
            "id": "594e2527",
            "metadata": {},
            "outputs": [
                {
                    "name": "stderr",
                    "output_type": "stream",
                    "text": [
                        "2023-06-21 15:46:35.410258: I tensorflow/core/platform/cpu_feature_guard.cc:193] This TensorFlow binary is optimized with oneAPI Deep Neural Network Library (oneDNN) to use the following CPU instructions in performance-critical operations:  AVX2 AVX_VNNI FMA\n",
                        "To enable them in other operations, rebuild TensorFlow with the appropriate compiler flags.\n",
                        "2023-06-21 15:46:35.495484: I tensorflow/core/util/util.cc:169] oneDNN custom operations are on. You may see slightly different numerical results due to floating-point round-off errors from different computation orders. To turn them off, set the environment variable `TF_ENABLE_ONEDNN_OPTS=0`.\n",
                        "2023-06-21 15:46:35.498985: W tensorflow/stream_executor/platform/default/dso_loader.cc:64] Could not load dynamic library 'libcudart.so.11.0'; dlerror: libcudart.so.11.0: cannot open shared object file: No such file or directory; LD_LIBRARY_PATH: :/usr/local/pulse\n",
                        "2023-06-21 15:46:35.498997: I tensorflow/stream_executor/cuda/cudart_stub.cc:29] Ignore above cudart dlerror if you do not have a GPU set up on your machine.\n",
                        "2023-06-21 15:46:35.515693: E tensorflow/stream_executor/cuda/cuda_blas.cc:2981] Unable to register cuBLAS factory: Attempting to register factory for plugin cuBLAS when one has already been registered\n",
                        "2023-06-21 15:46:35.836079: W tensorflow/stream_executor/platform/default/dso_loader.cc:64] Could not load dynamic library 'libnvinfer.so.7'; dlerror: libnvinfer.so.7: cannot open shared object file: No such file or directory; LD_LIBRARY_PATH: :/usr/local/pulse\n",
                        "2023-06-21 15:46:35.836120: W tensorflow/stream_executor/platform/default/dso_loader.cc:64] Could not load dynamic library 'libnvinfer_plugin.so.7'; dlerror: libnvinfer_plugin.so.7: cannot open shared object file: No such file or directory; LD_LIBRARY_PATH: :/usr/local/pulse\n",
                        "2023-06-21 15:46:35.836123: W tensorflow/compiler/tf2tensorrt/utils/py_utils.cc:38] TF-TRT Warning: Cannot dlopen some TensorRT libraries. If you would like to use Nvidia GPU with TensorRT, please make sure the missing libraries mentioned above are installed properly.\n"
                    ]
                }
            ],
            "source": [
                "import numpy as np\n",
                "import matplotlib.pyplot as plt\n",
                "\n",
                "%matplotlib inline\n",
                "\n",
                "# Scikit-learn utils\n",
                "from sklearn.model_selection import train_test_split\n",
                "from sklearn.datasets import make_classification, make_moons\n",
                "from sklearn.metrics import ConfusionMatrixDisplay\n",
                "from sklearn.metrics import confusion_matrix, classification_report, roc_curve, auc\n",
                "\n",
                "# Tensorflow imports\n",
                "import tensorflow as tf\n",
                "from tensorflow.keras.models import Model\n",
                "from tensorflow.keras.layers import Input, Dense, Dropout\n",
                "import tensorflow_privacy as tf_privacy\n",
                "from tensorflow_privacy.privacy.analysis import compute_dp_sgd_privacy\n",
                "\n",
                "# Classifiers for attack models\n",
                "from sklearn.linear_model import LogisticRegression\n",
                "from sklearn.neural_network import MLPClassifier\n",
                "\n",
                "# Safe Keras\n",
                "from aisdc.safemodel.classifiers import SafeKerasModel\n",
                "\n",
                "# set tensorflow messages to warning level\n",
                "tf.get_logger().setLevel(\"WARNING\")"
            ]
        },
        {
            "cell_type": "markdown",
            "id": "b0599f07",
            "metadata": {},
            "source": [
                "## A Quick Start Guide to implementing Safer Keras Models\n",
                "### Definition of the datasets\n",
                "1. We draw data points from a distribution.\n",
                "2. We split these data points into the target dataset and a shadow dataset drawn from the same distribution.\n",
                "3. We also draw a dataset from a different distribution.\n",
                "\n",
                "**NOTE**. ***we make datasets with few samples but with many features to force the target model to overfit.***\n",
                "\n",
                "\n",
                "**NOTE**: batch_size 25 so DP optimizer would run with same hyperparams\n",
                "\n",
                "**NOTE**: Next cell detemrienswhich dataset is used"
            ]
        },
        {
            "cell_type": "code",
            "execution_count": 3,
            "id": "d2bde25d",
            "metadata": {},
            "outputs": [],
            "source": [
                "simple_data_for_pytests = False"
            ]
        },
        {
            "cell_type": "code",
            "execution_count": 4,
            "id": "488fa7af",
            "metadata": {},
            "outputs": [],
            "source": [
                "if not simple_data_for_pytests:\n",
                "    n_classes = 2\n",
                "\n",
                "    # (X,y): Original distribution\n",
                "    X, y = make_classification(\n",
                "        n_samples=1000,\n",
                "        n_classes=n_classes,\n",
                "        n_features=300,\n",
                "        n_informative=300,\n",
                "        n_redundant=0,\n",
                "        n_repeated=0,\n",
                "        random_state=15,\n",
                "    )\n",
                "    # One-hot encoding of the label\n",
                "    y = np.eye(n_classes)[y]\n",
                "\n",
                "    # (Xt, yt) is the target dataset, owned by the TRE and drawn from the (X,y) distribution\n",
                "    # (Xs, ys) is a shadow dataset drawn from the (X,y) distribution\n",
                "    Xt, Xs, yt, ys = train_test_split(X, y, test_size=0.50, random_state=15)\n",
                "\n",
                "    # (Xd, yd) is a shadow dataset, drawn from a different distribution (different seed)\n",
                "    Xd, yd = make_classification(\n",
                "        n_samples=1000,\n",
                "        n_classes=n_classes,\n",
                "        n_features=300,\n",
                "        n_informative=300,\n",
                "        n_redundant=0,\n",
                "        n_repeated=0,\n",
                "        random_state=42,\n",
                "    )\n",
                "    yd = np.eye(n_classes)[yd]\n",
                "\n",
                "    # Split into train (member) and test (non-member) datasets\n",
                "    # Set shuffle to False so that Xt_membership is consistent with Xt, otherwise\n",
                "    # we need to stack Xt_member and Xt_nonmember again to get a consistent Xt.\n",
                "    Xt_member, Xt_nonmember, yt_member, yt_nonmember = train_test_split(\n",
                "        Xt, yt, test_size=0.5, shuffle=False\n",
                "    )\n",
                "\n",
                "    # Set membership status for future tests\n",
                "    Xt_membership = np.vstack(\n",
                "        (\n",
                "            np.ones((Xt_member.shape[0], 1), np.uint8),\n",
                "            np.zeros((Xt_nonmember.shape[0], 1), np.uint8),\n",
                "        )\n",
                "    ).flatten()\n",
                "\n",
                "    X = Xt_member\n",
                "    y = yt_member\n",
                "    Xval = Xt_nonmember\n",
                "    yval = yt_nonmember"
            ]
        },
        {
            "cell_type": "code",
            "execution_count": 5,
            "id": "f8845b4b",
            "metadata": {},
            "outputs": [],
            "source": [
                "if simple_data_for_pytests:\n",
                "    from sklearn import datasets\n",
                "\n",
                "    def get_data():\n",
                "        iris = datasets.load_iris()\n",
                "        x = np.asarray(iris.data, dtype=np.float64)\n",
                "        y = np.asarray(iris.target, dtype=np.float64)\n",
                "        return x, y\n",
                "\n",
                "    xall, yall = get_data()\n",
                "    n_classes = 4\n",
                "    X, Xval, y, yval = train_test_split(\n",
                "        xall, yall, test_size=0.2, shuffle=True, random_state=12345\n",
                "    )\n",
                "\n",
                "    y = tf.one_hot(y, n_classes)\n",
                "    yval = tf.one_hot(yval, n_classes)\n",
                "# yval"
            ]
        },
        {
            "cell_type": "markdown",
            "id": "7f2b7816",
            "metadata": {},
            "source": [
                "## Define the target model architecture\n",
                "\n",
                "*Again, we use a rather big model (for the classification task) to favour overfitting.*"
            ]
        },
        {
            "cell_type": "code",
            "execution_count": 6,
            "id": "d20787df",
            "metadata": {},
            "outputs": [
                {
                    "name": "stderr",
                    "output_type": "stream",
                    "text": [
                        "2023-06-21 15:46:36.778739: W tensorflow/stream_executor/platform/default/dso_loader.cc:64] Could not load dynamic library 'libcuda.so.1'; dlerror: libcuda.so.1: cannot open shared object file: No such file or directory; LD_LIBRARY_PATH: :/usr/local/pulse\n",
                        "2023-06-21 15:46:36.778755: W tensorflow/stream_executor/cuda/cuda_driver.cc:263] failed call to cuInit: UNKNOWN ERROR (303)\n",
                        "2023-06-21 15:46:36.778766: I tensorflow/stream_executor/cuda/cuda_diagnostics.cc:156] kernel driver does not appear to be running on this host (unknown): /proc/driver/nvidia/version does not exist\n",
                        "2023-06-21 15:46:36.778895: I tensorflow/core/platform/cpu_feature_guard.cc:193] This TensorFlow binary is optimized with oneAPI Deep Neural Network Library (oneDNN) to use the following CPU instructions in performance-critical operations:  AVX2 AVX_VNNI FMA\n",
                        "To enable them in other operations, rebuild TensorFlow with the appropriate compiler flags.\n"
                    ]
                }
            ],
            "source": [
                "# Define target model\n",
                "# Tensorflow model (MLP) (making it big to make it overfit)\n",
                "\n",
                "# amke results repeatable\n",
                "tf.random.set_seed(12345)\n",
                "initializer = tf.keras.initializers.Zeros()\n",
                "\n",
                "input_data = Input(shape=X[0].shape)\n",
                "x = Dense(128, activation=\"relu\", kernel_initializer=initializer)(input_data)\n",
                "x = Dense(128, activation=\"relu\", kernel_initializer=initializer)(x)\n",
                "x = Dense(64, activation=\"relu\", kernel_initializer=initializer)(x)\n",
                "output = Dense(n_classes, activation=\"softmax\", kernel_initializer=initializer)(x)"
            ]
        },
        {
            "cell_type": "markdown",
            "id": "7bbed581",
            "metadata": {},
            "source": [
                "### Define the SafeModel"
            ]
        },
        {
            "cell_type": "code",
            "execution_count": 7,
            "id": "944288d2",
            "metadata": {},
            "outputs": [
                {
                    "name": "stdout",
                    "output_type": "stream",
                    "text": [
                        "Preliminary checks: WARNING: model parameters may present a disclosure risk:\n",
                        "- parameter noise_multiplier = 0.5 identified as less than the recommended min value of 0.7.\n",
                        "Changed parameter noise_multiplier = 0.7.\n",
                        "\n"
                    ]
                }
            ],
            "source": [
                "safeModel = SafeKerasModel(\n",
                "    inputs=input_data,\n",
                "    outputs=output,\n",
                "    name=\"safekeras-test\",\n",
                "    num_samples=X.shape[0],\n",
                "    epochs=10,\n",
                ")"
            ]
        },
        {
            "cell_type": "markdown",
            "id": "6534c8b7",
            "metadata": {},
            "source": [
                "### Set loss and compile"
            ]
        },
        {
            "cell_type": "code",
            "execution_count": 8,
            "id": "b76b10b9",
            "metadata": {},
            "outputs": [
                {
                    "name": "stdout",
                    "output_type": "stream",
                    "text": [
                        "During compilation: Changed parameter optimizer = 'DPKerasSGDOptimizer'\n"
                    ]
                }
            ],
            "source": [
                "loss = tf.keras.losses.CategoricalCrossentropy(\n",
                "    from_logits=False, reduction=tf.losses.Reduction.NONE\n",
                ")\n",
                "\n",
                "\n",
                "safeModel.compile(loss=loss, optimizer=None)"
            ]
        },
        {
            "cell_type": "markdown",
            "id": "d0e4a371",
            "metadata": {},
            "source": [
                "### Fit the model"
            ]
        },
        {
            "cell_type": "code",
            "execution_count": 9,
            "id": "b2e4da84",
            "metadata": {},
            "outputs": [
                {
                    "name": "stderr",
                    "output_type": "stream",
                    "text": [
                        "WARNING:absl:`compute_dp_sgd_privacy` is deprecated. It does not account for doubling of sensitivity with microbatching, and assumes Poisson subsampling, which is rarely used in practice. Please use the `dp_accounting` libraries directly to compute epsilon, using the precise and correct assumptions of your application.\n"
                    ]
                },
                {
                    "name": "stdout",
                    "output_type": "stream",
                    "text": [
                        "\n",
                        "\n",
                        "Epoch 1/10\n",
                        "10/10 [==============================] - 1s 16ms/step - loss: 0.6935 - accuracy: 0.5080 - val_loss: 0.6936 - val_accuracy: 0.5000\n",
                        "Epoch 2/10\n",
                        "10/10 [==============================] - 0s 8ms/step - loss: 0.6919 - accuracy: 0.5320 - val_loss: 0.6943 - val_accuracy: 0.5000\n",
                        "Epoch 3/10\n",
                        "10/10 [==============================] - 0s 9ms/step - loss: 0.6924 - accuracy: 0.5320 - val_loss: 0.6949 - val_accuracy: 0.5000\n",
                        "Epoch 4/10\n",
                        "10/10 [==============================] - 0s 8ms/step - loss: 0.6921 - accuracy: 0.5320 - val_loss: 0.6944 - val_accuracy: 0.5000\n",
                        "Epoch 5/10\n",
                        "10/10 [==============================] - 0s 7ms/step - loss: 0.6927 - accuracy: 0.5320 - val_loss: 0.6948 - val_accuracy: 0.5000\n",
                        "Epoch 6/10\n",
                        "10/10 [==============================] - 0s 7ms/step - loss: 0.6912 - accuracy: 0.5320 - val_loss: 0.6956 - val_accuracy: 0.5000\n",
                        "Epoch 7/10\n",
                        "10/10 [==============================] - 0s 8ms/step - loss: 0.6920 - accuracy: 0.5320 - val_loss: 0.6987 - val_accuracy: 0.5000\n",
                        "Epoch 8/10\n",
                        "10/10 [==============================] - 0s 7ms/step - loss: 0.6874 - accuracy: 0.5320 - val_loss: 0.7071 - val_accuracy: 0.5000\n",
                        "Epoch 9/10\n",
                        "10/10 [==============================] - 0s 7ms/step - loss: 0.6890 - accuracy: 0.5320 - val_loss: 0.7219 - val_accuracy: 0.5000\n",
                        "Epoch 10/10\n",
                        "10/10 [==============================] - 0s 8ms/step - loss: 0.6907 - accuracy: 0.5320 - val_loss: 0.7335 - val_accuracy: 0.5000\n"
                    ]
                },
                {
                    "data": {
                        "image/png": "[encoded data removed]",
                        "text/plain": [
                            "<Figure size 640x480 with 1 Axes>"
                        ]
                    },
                    "metadata": {},
                    "output_type": "display_data"
                },
                {
                    "name": "stdout",
                    "output_type": "stream",
                    "text": [
                        "8/8 [==============================] - 0s 1ms/step\n",
                        "model training  report:\n",
                        "               precision    recall  f1-score   support\n",
                        "\n",
                        "           0       0.00      0.00      0.00       117\n",
                        "           1       0.53      1.00      0.69       133\n",
                        "\n",
                        "    accuracy                           0.53       250\n",
                        "   macro avg       0.27      0.50      0.35       250\n",
                        "weighted avg       0.28      0.53      0.37       250\n",
                        "\n"
                    ]
                },
                {
                    "name": "stderr",
                    "output_type": "stream",
                    "text": [
                        "/home/unknown/.local/lib/python3.10/site-packages/sklearn/metrics/_classification.py:1334: UndefinedMetricWarning: Precision and F-score are ill-defined and being set to 0.0 in labels with no predicted samples. Use `zero_division` parameter to control this behavior.\n",
                        "  _warn_prf(average, modifier, msg_start, len(result))\n",
                        "/home/unknown/.local/lib/python3.10/site-packages/sklearn/metrics/_classification.py:1334: UndefinedMetricWarning: Precision and F-score are ill-defined and being set to 0.0 in labels with no predicted samples. Use `zero_division` parameter to control this behavior.\n",
                        "  _warn_prf(average, modifier, msg_start, len(result))\n",
                        "/home/unknown/.local/lib/python3.10/site-packages/sklearn/metrics/_classification.py:1334: UndefinedMetricWarning: Precision and F-score are ill-defined and being set to 0.0 in labels with no predicted samples. Use `zero_division` parameter to control this behavior.\n",
                        "  _warn_prf(average, modifier, msg_start, len(result))\n"
                    ]
                }
            ],
            "source": [
                "epochs = 10\n",
                "batch_size = 25\n",
                "\n",
                "r_DP = safeModel.fit(\n",
                "    X,\n",
                "    y,\n",
                "    validation_data=(Xval, yval),\n",
                "    epochs=epochs,\n",
                "    batch_size=batch_size,\n",
                ")\n",
                "if r_DP == None:\n",
                "    print(\"You have chosen to exit. Reset relevant parameter values then re-run fit().\")\n",
                "else:\n",
                "    plt.plot(r_DP.history[\"accuracy\"], label=\"accuracy\")\n",
                "    plt.plot(r_DP.history[\"val_accuracy\"], label=\"validation accuracy\")\n",
                "    plt.legend()\n",
                "    plt.show()\n",
                "    ypred = safeModel.predict(X)\n",
                "    ylabels = np.argmax(y, axis=1)\n",
                "    ypredlabels = np.argmax(ypred, axis=1)\n",
                "    print(f\"model training  report:\\n {classification_report(ylabels,ypredlabels)}\")"
            ]
        },
        {
            "cell_type": "markdown",
            "id": "b059f431",
            "metadata": {},
            "source": [
                "### Compute privacy and check if requirements for Differential Privacy are met"
            ]
        },
        {
            "cell_type": "code",
            "execution_count": 10,
            "id": "55805bad",
            "metadata": {},
            "outputs": [
                {
                    "name": "stderr",
                    "output_type": "stream",
                    "text": [
                        "WARNING:absl:`compute_dp_sgd_privacy` is deprecated. It does not account for doubling of sensitivity with microbatching, and assumes Poisson subsampling, which is rarely used in practice. Please use the `dp_accounting` libraries directly to compute epsilon, using the precise and correct assumptions of your application.\n"
                    ]
                },
                {
                    "name": "stdout",
                    "output_type": "stream",
                    "text": [
                        "with these settings privacy = 23.09099569905857\n"
                    ]
                }
            ],
            "source": [
                "num_samples = X.shape[0]\n",
                "batch_size = safeModel.batch_size\n",
                "epochs = 20\n",
                "\n",
                "dp_met, privacy = safeModel.dp_epsilon_met(\n",
                "    num_examples=num_samples, batch_size=batch_size, epochs=epochs\n",
                ")\n",
                "\n",
                "print(f\"with these settings privacy = {privacy}\")"
            ]
        },
        {
            "cell_type": "code",
            "execution_count": 11,
            "id": "88413967",
            "metadata": {},
            "outputs": [
                {
                    "name": "stderr",
                    "output_type": "stream",
                    "text": [
                        "WARNING:absl:`compute_dp_sgd_privacy` is deprecated. It does not account for doubling of sensitivity with microbatching, and assumes Poisson subsampling, which is rarely used in practice. Please use the `dp_accounting` libraries directly to compute epsilon, using the precise and correct assumptions of your application.\n"
                    ]
                },
                {
                    "name": "stdout",
                    "output_type": "stream",
                    "text": [
                        "\n",
                        "Satisfies DP: False\n",
                        "\n"
                    ]
                }
            ],
            "source": [
                "dp_met, msg = safeModel.check_epsilon(\n",
                "    X.shape[0], safeModel.batch_size, safeModel.epochs\n",
                ")\n",
                "print(f\"Satisfies DP: {dp_met}\")\n",
                "print(f\"{msg}\")"
            ]
        },
        {
            "cell_type": "markdown",
            "id": "21813930",
            "metadata": {},
            "source": [
                "### Check model and request release\n",
                "\n",
                "Note that the request_release() process will fail if the version checkpointed\n",
                "during the fit() call, is not present\n",
                "- it should be in  \"tfsaves/fit_model.tf\" "
            ]
        },
        {
            "cell_type": "code",
            "execution_count": 12,
            "id": "62a9a6d1",
            "metadata": {},
            "outputs": [
                {
                    "name": "stdout",
                    "output_type": "stream",
                    "text": [
                        "Preliminary checks: Model parameters are within recommended ranges.\n",
                        "\n",
                        "WARNING:tensorflow:No training configuration found in save file, so the model was *not* compiled. Compile it manually.\n"
                    ]
                },
                {
                    "name": "stderr",
                    "output_type": "stream",
                    "text": [
                        "WARNING:tensorflow:No training configuration found in save file, so the model was *not* compiled. Compile it manually.\n"
                    ]
                },
                {
                    "name": "stdout",
                    "output_type": "stream",
                    "text": [
                        "WARNING:tensorflow:No training configuration found in save file, so the model was *not* compiled. Compile it manually.\n"
                    ]
                },
                {
                    "name": "stderr",
                    "output_type": "stream",
                    "text": [
                        "WARNING:tensorflow:No training configuration found in save file, so the model was *not* compiled. Compile it manually.\n",
                        "WARNING:absl:`compute_dp_sgd_privacy` is deprecated. It does not account for doubling of sensitivity with microbatching, and assumes Poisson subsampling, which is rarely used in practice. Please use the `dp_accounting` libraries directly to compute epsilon, using the precise and correct assumptions of your application.\n"
                    ]
                },
                {
                    "name": "stdout",
                    "output_type": "stream",
                    "text": [
                        "Recommendation is further discussion needed WARNING: epsilon 16.608813401454455 is above normal max recommended value.\n",
                        "Discussion with researcher needed.\n",
                        ".\n",
                        "\n"
                    ]
                }
            ],
            "source": [
                "safeModel.save(\"safe1.tf\")\n",
                "safeModel.preliminary_check()\n",
                "safeModel.request_release(path=\"safe1\", ext=\"tf\")"
            ]
        },
        {
            "cell_type": "markdown",
            "id": "7f2e46a5",
            "metadata": {},
            "source": [
                "### Examine Checkfile\n"
            ]
        },
        {
            "cell_type": "code",
            "execution_count": 13,
            "id": "9cccce2f",
            "metadata": {},
            "outputs": [
                {
                    "name": "stdout",
                    "output_type": "stream",
                    "text": [
                        "{\n",
                        "    \"data_name\": \"\",\n",
                        "    \"n_samples\": 0,\n",
                        "    \"features\": {},\n",
                        "    \"n_features\": 0,\n",
                        "    \"n_samples_orig\": 0,\n",
                        "    \"safemodel\": [\n",
                        "        {\n",
                        "            \"researcher\": \"unknown\",\n",
                        "            \"model_type\": \"KerasModel\",\n",
                        "            \"details\": \"Model parameters are within recommended ranges.\\n\",\n",
                        "            \"recommendation\": \"Do not allow release\",\n",
                        "            \"reason\": \"Model parameters are within recommended ranges.\\nRecommendation is not to release because None.\\nWARNING: epsilon 16.608813401454455 is above normal max recommended value.\\nDiscussion with researcher needed.\\n\",\n",
                        "            \"timestamp\": \"2023-06-21 15:46:39\"\n",
                        "        }\n",
                        "    ],\n",
                        "    \"model_path\": \"model.tf\",\n",
                        "    \"model_name\": \"SafeKerasModel\",\n",
                        "    \"model_params\": {}\n",
                        "}\n"
                    ]
                }
            ],
            "source": [
                "target_json = os.path.normpath(\"safe1/target.json\")\n",
                "with open(target_json, \"r\") as f:\n",
                "    print(f.read())"
            ]
        },
        {
            "cell_type": "markdown",
            "id": "3ac98139-306b-4b52-83e8-021cd87789c1",
            "metadata": {},
            "source": [
                "## load saved model\n",
                "\n",
                "### note that for security reasons we do not include the optimizer in the saved version\n",
                "- This means that tensorflow will assume it has not beeen compiled\n",
                "- so the loss and accuracy functions are not defined. \n",
                "- really urgent users can define losses if they want to use built-in evaluate functions\n",
                "- or they can use standard methods to assess accuracy\n"
            ]
        },
        {
            "cell_type": "code",
            "execution_count": 14,
            "id": "7ea50179-8943-4845-a6e9-f584603f7314",
            "metadata": {},
            "outputs": [
                {
                    "name": "stdout",
                    "output_type": "stream",
                    "text": [
                        "WARNING:tensorflow:No training configuration found in save file, so the model was *not* compiled. Compile it manually.\n"
                    ]
                },
                {
                    "name": "stderr",
                    "output_type": "stream",
                    "text": [
                        "WARNING:tensorflow:No training configuration found in save file, so the model was *not* compiled. Compile it manually.\n"
                    ]
                },
                {
                    "name": "stdout",
                    "output_type": "stream",
                    "text": [
                        "WARNING:tensorflow:No training configuration found in save file, so the model was *not* compiled. Compile it manually.\n"
                    ]
                },
                {
                    "name": "stderr",
                    "output_type": "stream",
                    "text": [
                        "WARNING:tensorflow:No training configuration found in save file, so the model was *not* compiled. Compile it manually.\n"
                    ]
                }
            ],
            "source": [
                "from aisdc.safemodel.classifiers.safekeras import load_safe_keras_model\n",
                "\n",
                "model_path = os.path.normpath(\"safe1/model.tf\")\n",
                "status, reloaded_model = load_safe_keras_model(model_path)"
            ]
        },
        {
            "cell_type": "code",
            "execution_count": 15,
            "id": "32c0e0df-eeec-4e16-b0d8-b8bc9107267e",
            "metadata": {},
            "outputs": [
                {
                    "name": "stdout",
                    "output_type": "stream",
                    "text": [
                        "8/8 [==============================] - 0s 1ms/step\n",
                        "reloaded model training  accuracy:\n",
                        "               precision    recall  f1-score   support\n",
                        "\n",
                        "           0       0.00      0.00      0.00       117\n",
                        "           1       0.53      1.00      0.69       133\n",
                        "\n",
                        "    accuracy                           0.53       250\n",
                        "   macro avg       0.27      0.50      0.35       250\n",
                        "weighted avg       0.28      0.53      0.37       250\n",
                        "\n"
                    ]
                },
                {
                    "name": "stderr",
                    "output_type": "stream",
                    "text": [
                        "/home/unknown/.local/lib/python3.10/site-packages/sklearn/metrics/_classification.py:1334: UndefinedMetricWarning: Precision and F-score are ill-defined and being set to 0.0 in labels with no predicted samples. Use `zero_division` parameter to control this behavior.\n",
                        "  _warn_prf(average, modifier, msg_start, len(result))\n",
                        "/home/unknown/.local/lib/python3.10/site-packages/sklearn/metrics/_classification.py:1334: UndefinedMetricWarning: Precision and F-score are ill-defined and being set to 0.0 in labels with no predicted samples. Use `zero_division` parameter to control this behavior.\n",
                        "  _warn_prf(average, modifier, msg_start, len(result))\n",
                        "/home/unknown/.local/lib/python3.10/site-packages/sklearn/metrics/_classification.py:1334: UndefinedMetricWarning: Precision and F-score are ill-defined and being set to 0.0 in labels with no predicted samples. Use `zero_division` parameter to control this behavior.\n",
                        "  _warn_prf(average, modifier, msg_start, len(result))\n"
                    ]
                }
            ],
            "source": [
                "ypred = reloaded_model.predict(X)\n",
                "ylabels = np.argmax(y, axis=1)\n",
                "ypredlabels = np.argmax(ypred, axis=1)\n",
                "reloaded_cm = confusion_matrix(ylabels, ypredlabels)\n",
                "print(\n",
                "    f\"reloaded model training  accuracy:\\n {classification_report(ylabels,ypredlabels)}\"\n",
                ")"
            ]
        },
        {
            "cell_type": "code",
            "execution_count": null,
            "id": "840bf7ff",
            "metadata": {},
            "outputs": [],
            "source": []
        }
    ],
    "metadata": {
        "kernelspec": {
            "display_name": "Python 3 (ipykernel)",
            "language": "python",
            "name": "python3"
        },
        "language_info": {
            "codemirror_mode": {
                "name": "ipython",
                "version": 3
            },
            "file_extension": ".py",
            "mimetype": "text/x-python",
            "name": "python",
            "nbconvert_exporter": "python",
            "pygments_lexer": "ipython3",
            "version": "3.10.6"
        }
    },
    "nbformat": 4,
    "nbformat_minor": 5
}
