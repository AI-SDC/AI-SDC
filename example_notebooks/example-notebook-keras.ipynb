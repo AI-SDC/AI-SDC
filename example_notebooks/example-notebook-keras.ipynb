{
 "cells": [
  {
   "cell_type": "markdown",
   "id": "6d9366ac",
   "metadata": {},
   "source": [
    "# Safe Keras Notebook \n",
    "### First set some path variables: \n",
    "- this notebook expects to find the repository root in a folder GitHub/AI-SDC/AI-SDC within your home directory. \n",
    "- **You should change this** by editing the last sys.path.append line to reflect where the repository root is found on your system"
   ]
  },
  {
   "cell_type": "code",
   "execution_count": 2,
   "id": "f96259b1",
   "metadata": {
    "tags": []
   },
   "outputs": [],
   "source": [
    "import sys\n",
    "import os\n",
    "\n",
    "from os.path import expanduser\n",
    "\n",
    "ROOT_DIR = os.path.dirname(os.path.dirname(os.path.abspath(\"\")))\n",
    "sys.path.append(ROOT_DIR)\n",
    "home = expanduser(\"~\")\n",
    "sys.path.append(os.path.abspath(home + \"/AI-SDC\"))"
   ]
  },
  {
   "cell_type": "code",
   "execution_count": null,
   "id": "594e2527",
   "metadata": {
    "tags": []
   },
   "outputs": [],
   "source": [
    "import numpy as np\n",
    "import matplotlib.pyplot as plt\n",
    "\n",
    "%matplotlib inline\n",
    "\n",
    "# Scikit-learn utils\n",
    "from sklearn.model_selection import train_test_split\n",
    "from sklearn.datasets import make_classification, make_moons\n",
    "from sklearn.metrics import ConfusionMatrixDisplay\n",
    "from sklearn.metrics import confusion_matrix, classification_report, roc_curve, auc\n",
    "\n",
    "# Tensorflow imports\n",
    "import tensorflow as tf\n",
    "from tensorflow.keras.models import Model\n",
    "from tensorflow.keras.layers import Input, Dense, Dropout\n",
    "import tensorflow_privacy as tf_privacy\n",
    "from tensorflow_privacy.privacy.analysis import compute_dp_sgd_privacy\n",
    "\n",
    "# Classifiers for attack models\n",
    "from sklearn.linear_model import LogisticRegression\n",
    "from sklearn.neural_network import MLPClassifier\n",
    "\n",
    "# Safe Keras\n",
    "from aisdc.safemodel.classifiers import SafeKerasModel\n",
    "\n",
    "# set tensorflow messages to warning level\n",
    "tf.get_logger().setLevel(\"WARNING\")"
   ]
  },
  {
   "cell_type": "markdown",
   "id": "b0599f07",
   "metadata": {},
   "source": [
    "## A Quick Start Guide to implementing Safer Keras Models\n",
    "### Definition of the datasets\n",
    "1. We draw data points from a distribution.\n",
    "2. We split these data points into the target dataset and a shadow dataset drawn from the same distribution.\n",
    "3. We also draw a dataset from a different distribution.\n",
    "\n",
    "**NOTE**. ***we make datasets with few samples but with many features to force the target model to overfit.***\n",
    "\n",
    "\n",
    "**NOTE**: batch_size 25 so DP optimizer would run with same hyperparams\n",
    "\n",
    "**NOTE**: Next cell detemrienswhich dataset is used"
   ]
  },
  {
   "cell_type": "code",
   "execution_count": 41,
   "id": "d2bde25d",
   "metadata": {},
   "outputs": [],
   "source": [
    "simple_data_for_pytests = False"
   ]
  },
  {
   "cell_type": "code",
   "execution_count": 56,
   "id": "488fa7af",
   "metadata": {},
   "outputs": [],
   "source": [
    "if not simple_data_for_pytests:\n",
    "    n_classes = 2\n",
    "\n",
    "    # (X,y): Original distribution\n",
    "    X, y = make_classification(\n",
    "        n_samples=1000,\n",
    "        n_classes=n_classes,\n",
    "        n_features=300,\n",
    "        n_informative=300,\n",
    "        n_redundant=0,\n",
    "        n_repeated=0,\n",
    "        random_state=15,\n",
    "    )\n",
    "    # One-hot encoding of the label\n",
    "    y = np.eye(n_classes)[y]\n",
    "\n",
    "    # (Xt, yt) is the target dataset, owned by the TRE and drawn from the (X,y) distribution\n",
    "    # (Xs, ys) is a shadow dataset drawn from the (X,y) distribution\n",
    "    Xt, Xs, yt, ys = train_test_split(X, y, test_size=0.50, random_state=15)\n",
    "\n",
    "    # (Xd, yd) is a shadow dataset, drawn from a different distribution (different seed)\n",
    "    Xd, yd = make_classification(\n",
    "        n_samples=1000,\n",
    "        n_classes=n_classes,\n",
    "        n_features=300,\n",
    "        n_informative=300,\n",
    "        n_redundant=0,\n",
    "        n_repeated=0,\n",
    "        random_state=42,\n",
    "    )\n",
    "    yd = np.eye(n_classes)[yd]\n",
    "\n",
    "    # Split into train (member) and test (non-member) datasets\n",
    "    # Set shuffle to False so that Xt_membership is consistent with Xt, otherwise\n",
    "    # we need to stack Xt_member and Xt_nonmember again to get a consistent Xt.\n",
    "    Xt_member, Xt_nonmember, yt_member, yt_nonmember = train_test_split(\n",
    "        Xt, yt, test_size=0.5, shuffle=False\n",
    "    )\n",
    "\n",
    "    # Set membership status for future tests\n",
    "    Xt_membership = np.vstack(\n",
    "        (\n",
    "            np.ones((Xt_member.shape[0], 1), np.uint8),\n",
    "            np.zeros((Xt_nonmember.shape[0], 1), np.uint8),\n",
    "        )\n",
    "    ).flatten()\n",
    "\n",
    "    X = Xt_member\n",
    "    y = yt_member\n",
    "    Xval = Xt_nonmember\n",
    "    yval = yt_nonmember"
   ]
  },
  {
   "cell_type": "code",
   "execution_count": 57,
   "id": "f8845b4b",
   "metadata": {},
   "outputs": [],
   "source": [
    "if simple_data_for_pytests:\n",
    "    from sklearn import datasets\n",
    "\n",
    "    def get_data():\n",
    "        iris = datasets.load_iris()\n",
    "        x = np.asarray(iris.data, dtype=np.float64)\n",
    "        y = np.asarray(iris.target, dtype=np.float64)\n",
    "        return x, y\n",
    "\n",
    "    xall, yall = get_data()\n",
    "    n_classes = 4\n",
    "    X, Xval, y, yval = train_test_split(\n",
    "        xall, yall, test_size=0.2, shuffle=True, random_state=12345\n",
    "    )\n",
    "\n",
    "    y = tf.one_hot(y, n_classes)\n",
    "    yval = tf.one_hot(yval, n_classes)\n",
    "# yval"
   ]
  },
  {
   "cell_type": "markdown",
   "id": "7f2b7816",
   "metadata": {},
   "source": [
    "## Define the target model architecture\n",
    "\n",
    "*Again, we use a rather big model (for the classification task) to favour overfitting.*"
   ]
  },
  {
   "cell_type": "code",
   "execution_count": 58,
   "id": "d20787df",
   "metadata": {},
   "outputs": [],
   "source": [
    "# Define target model\n",
    "# Tensorflow model (MLP) (making it big to make it overfit)\n",
    "\n",
    "# amke results repeatable\n",
    "tf.random.set_seed(12345)\n",
    "initializer = tf.keras.initializers.Zeros()\n",
    "\n",
    "input_data = Input(shape=X[0].shape)\n",
    "x = Dense(128, activation=\"relu\", kernel_initializer=initializer)(input_data)\n",
    "x = Dense(128, activation=\"relu\", kernel_initializer=initializer)(x)\n",
    "x = Dense(64, activation=\"relu\", kernel_initializer=initializer)(x)\n",
    "output = Dense(n_classes, activation=\"softmax\", kernel_initializer=initializer)(x)"
   ]
  },
  {
   "cell_type": "markdown",
   "id": "7bbed581",
   "metadata": {},
   "source": [
    "### Define the SafeModel"
   ]
  },
  {
   "cell_type": "code",
   "execution_count": 59,
   "id": "944288d2",
   "metadata": {},
   "outputs": [
    {
     "name": "stdout",
     "output_type": "stream",
     "text": [
      "Preliminary checks: WARNING: model parameters may present a disclosure risk:\n",
      "- parameter noise_multiplier = 0.5 identified as less than the recommended min value of 0.7.\n",
      "Changed parameter noise_multiplier = 0.7.\n",
      "\n"
     ]
    }
   ],
   "source": [
    "safeModel = SafeKerasModel(\n",
    "    inputs=input_data,\n",
    "    outputs=output,\n",
    "    name=\"safekeras-test\",\n",
    "    num_samples=X.shape[0],\n",
    "    epochs=10,\n",
    ")"
   ]
  },
  {
   "cell_type": "markdown",
   "id": "6534c8b7",
   "metadata": {},
   "source": [
    "### Set loss and compile"
   ]
  },
  {
   "cell_type": "code",
   "execution_count": 60,
   "id": "b76b10b9",
   "metadata": {},
   "outputs": [
    {
     "name": "stdout",
     "output_type": "stream",
     "text": [
      "During compilation: Changed parameter optimizer = 'DPKerasSGDOptimizer'\n"
     ]
    }
   ],
   "source": [
    "loss = tf.keras.losses.CategoricalCrossentropy(\n",
    "    from_logits=False, reduction=tf.losses.Reduction.NONE\n",
    ")\n",
    "\n",
    "\n",
    "safeModel.compile(loss=loss, optimizer=None)"
   ]
  },
  {
   "cell_type": "markdown",
   "id": "d0e4a371",
   "metadata": {},
   "source": [
    "### Fit the model"
   ]
  },
  {
   "cell_type": "code",
   "execution_count": 91,
   "id": "b2e4da84",
   "metadata": {},
   "outputs": [
    {
     "name": "stdout",
     "output_type": "stream",
     "text": [
      "DP-SGD with sampling rate = 10% and noise_multiplier = 0.7 iterated over 100 steps satisfies differential privacy with eps = 16.6 and delta = 1e-05.\n",
      "The optimal RDP order is 2.0.\n",
      "\n",
      "\n",
      "Epoch 1/10\n",
      "10/10 [==============================] - 2s 231ms/step - loss: 48694.6836 - accuracy: 0.5800 - val_loss: 78281.3125 - val_accuracy: 0.4760\n",
      "Epoch 2/10\n",
      "10/10 [==============================] - 2s 237ms/step - loss: 52802.5742 - accuracy: 0.5880 - val_loss: 84549.4453 - val_accuracy: 0.4760\n",
      "Epoch 3/10\n",
      "10/10 [==============================] - 2s 238ms/step - loss: 56757.9258 - accuracy: 0.5800 - val_loss: 91271.6562 - val_accuracy: 0.4760\n",
      "Epoch 4/10\n",
      "10/10 [==============================] - 2s 237ms/step - loss: 61413.8086 - accuracy: 0.5920 - val_loss: 98250.4219 - val_accuracy: 0.4720\n",
      "Epoch 5/10\n",
      "10/10 [==============================] - 2s 243ms/step - loss: 65990.1875 - accuracy: 0.5920 - val_loss: 105773.1875 - val_accuracy: 0.4760\n",
      "Epoch 6/10\n",
      "10/10 [==============================] - 2s 232ms/step - loss: 70403.1172 - accuracy: 0.5920 - val_loss: 113674.4609 - val_accuracy: 0.4760\n",
      "Epoch 7/10\n",
      "10/10 [==============================] - 2s 231ms/step - loss: 75883.4688 - accuracy: 0.5880 - val_loss: 121972.1797 - val_accuracy: 0.4720\n",
      "Epoch 8/10\n",
      "10/10 [==============================] - 2s 239ms/step - loss: 81731.1953 - accuracy: 0.5920 - val_loss: 130821.9297 - val_accuracy: 0.4760\n",
      "Epoch 9/10\n",
      "10/10 [==============================] - 2s 243ms/step - loss: 87831.1719 - accuracy: 0.5840 - val_loss: 140061.7656 - val_accuracy: 0.4760\n",
      "Epoch 10/10\n",
      "10/10 [==============================] - 2s 233ms/step - loss: 93877.6016 - accuracy: 0.5960 - val_loss: 149813.6250 - val_accuracy: 0.4760\n"
     ]
    },
    {
     "data": {
      "image/png": "[encoded data removed]",
      "text/plain": [
       "<Figure size 640x480 with 1 Axes>"
      ]
     },
     "metadata": {},
     "output_type": "display_data"
    },
    {
     "name": "stdout",
     "output_type": "stream",
     "text": [
      "8/8 [==============================] - 0s 2ms/step\n",
      "model training  report:\n",
      "               precision    recall  f1-score   support\n",
      "\n",
      "           0       0.58      0.53      0.55       117\n",
      "           1       0.62      0.66      0.64       133\n",
      "\n",
      "    accuracy                           0.60       250\n",
      "   macro avg       0.60      0.60      0.60       250\n",
      "weighted avg       0.60      0.60      0.60       250\n",
      "\n"
     ]
    }
   ],
   "source": [
    "epochs = 10\n",
    "batch_size = 25\n",
    "\n",
    "r_DP = safeModel.fit(\n",
    "    X,\n",
    "    y,\n",
    "    validation_data=(Xval, yval),\n",
    "    epochs=epochs,\n",
    "    batch_size=batch_size,\n",
    ")\n",
    "if r_DP == None:\n",
    "    print(\"You have chosen to exit. Reset relevant parameter values then re-run fit().\")\n",
    "else:\n",
    "    plt.plot(r_DP.history[\"accuracy\"], label=\"accuracy\")\n",
    "    plt.plot(r_DP.history[\"val_accuracy\"], label=\"validation accuracy\")\n",
    "    plt.legend()\n",
    "    plt.show()\n",
    "    ypred = safeModel.predict(X)\n",
    "    ylabels = np.argmax(y, axis=1)\n",
    "    ypredlabels = np.argmax(ypred, axis=1)\n",
    "    print(f\"model training  report:\\n {classification_report(ylabels,ypredlabels)}\")"
   ]
  },
  {
   "cell_type": "markdown",
   "id": "b059f431",
   "metadata": {},
   "source": [
    "### Compute privacy and check if requirements for Differential Privacy are met"
   ]
  },
  {
   "cell_type": "code",
   "execution_count": 83,
   "id": "55805bad",
   "metadata": {},
   "outputs": [
    {
     "name": "stdout",
     "output_type": "stream",
     "text": [
      "DP-SGD with sampling rate = 10% and noise_multiplier = 0.7 iterated over 200 steps satisfies differential privacy with eps = 23.1 and delta = 1e-05.\n",
      "The optimal RDP order is 2.0.\n",
      "with these settings privacy = 23.09099569905857\n"
     ]
    }
   ],
   "source": [
    "num_samples = X.shape[0]\n",
    "batch_size = safeModel.batch_size\n",
    "epochs = 20\n",
    "\n",
    "dp_met, privacy = safeModel.dp_epsilon_met(\n",
    "    num_examples=num_samples, batch_size=batch_size, epochs=epochs\n",
    ")\n",
    "\n",
    "print(f\"with these settings privacy = {privacy}\")"
   ]
  },
  {
   "cell_type": "code",
   "execution_count": 84,
   "id": "88413967",
   "metadata": {},
   "outputs": [
    {
     "name": "stdout",
     "output_type": "stream",
     "text": [
      "DP-SGD with sampling rate = 10% and noise_multiplier = 0.7 iterated over 100 steps satisfies differential privacy with eps = 16.6 and delta = 1e-05.\n",
      "The optimal RDP order is 2.0.\n",
      "\n",
      "Satisfies DP: False\n",
      "\n"
     ]
    }
   ],
   "source": [
    "dp_met, msg = safeModel.check_epsilon(\n",
    "    X.shape[0], safeModel.batch_size, safeModel.epochs\n",
    ")\n",
    "print(f\"Satisfies DP: {dp_met}\")\n",
    "print(f\"{msg}\")"
   ]
  },
  {
   "cell_type": "markdown",
   "id": "21813930",
   "metadata": {},
   "source": [
    "### Check model and request release\n",
    "\n",
    "Note that the request_release() process will fail if the version checkpointed\n",
    "during the fit() call, is not present\n",
    "- it should be in  \"tfsaves/fit_model.tf\" "
   ]
  },
  {
   "cell_type": "code",
   "execution_count": 92,
   "id": "62a9a6d1",
   "metadata": {},
   "outputs": [
    {
     "name": "stdout",
     "output_type": "stream",
     "text": [
      "Preliminary checks: Model parameters are within recommended ranges.\n",
      "\n",
      "WARNING:tensorflow:No training configuration found in save file, so the model was *not* compiled. Compile it manually.\n"
     ]
    },
    {
     "name": "stderr",
     "output_type": "stream",
     "text": [
      "WARNING:tensorflow:No training configuration found in save file, so the model was *not* compiled. Compile it manually.\n"
     ]
    },
    {
     "name": "stdout",
     "output_type": "stream",
     "text": [
      "WARNING:tensorflow:No training configuration found in save file, so the model was *not* compiled. Compile it manually.\n"
     ]
    },
    {
     "name": "stderr",
     "output_type": "stream",
     "text": [
      "WARNING:tensorflow:No training configuration found in save file, so the model was *not* compiled. Compile it manually.\n"
     ]
    },
    {
     "name": "stdout",
     "output_type": "stream",
     "text": [
      "DP-SGD with sampling rate = 10% and noise_multiplier = 0.7 iterated over 100 steps satisfies differential privacy with eps = 16.6 and delta = 1e-05.\n",
      "The optimal RDP order is 2.0.\n",
      "Recommendation is further discussion needed WARNING: epsilon 16.608813401454455 is above normal max recommended value.\n",
      "Discussion with researcher needed.\n",
      ".\n",
      "\n"
     ]
    }
   ],
   "source": [
    "safeModel.save(\"safe1.tf\")\n",
    "safeModel.preliminary_check()\n",
    "safeModel.request_release(filename=\"safe1.tf\")"
   ]
  },
  {
   "cell_type": "markdown",
   "id": "7f2e46a5",
   "metadata": {},
   "source": [
    "### Examine Checkfile\n"
   ]
  },
  {
   "cell_type": "code",
   "execution_count": 86,
   "id": "9cccce2f",
   "metadata": {},
   "outputs": [
    {
     "name": "stdout",
     "output_type": "stream",
     "text": [
      "contents of checkfile are\n",
      "{\n",
      "    \"researcher\": \"j4-smith\",\n",
      "    \"model_type\": \"KerasModel\",\n",
      "    \"model_save_file\": \"tfsaves/requested_model.tf\",\n",
      "    \"details\": \"Model parameters are within recommended ranges.\\n\",\n",
      "    \"recommendation\": \"Do not allow release\",\n",
      "    \"reason\": \"Model parameters are within recommended ranges.\\nWARNING: epsilon 16.608813401454455 is above normal max recommended value.\\nDiscussion with researcher needed.\\n\",\n",
      "    \"timestamp\": \"2022-10-31 15:58:37\"\n",
      "}"
     ]
    }
   ],
   "source": [
    "!echo \"contents of checkfile are\"; cat *_check*ile.json"
   ]
  },
  {
   "cell_type": "markdown",
   "id": "3ac98139-306b-4b52-83e8-021cd87789c1",
   "metadata": {},
   "source": [
    "## load saved model\n",
    "\n",
    "### note that for security reasons we do not include the optimizer in the saved version\n",
    "- This means that tensorflow will assume it has not beeen compiled\n",
    "- so the loss and accuracy functions are not defined. \n",
    "- really urgent users can define losses if they want to use built-in evaluate functions\n",
    "- or they can use standard methods to assess accuracy\n"
   ]
  },
  {
   "cell_type": "code",
   "execution_count": 93,
   "id": "7ea50179-8943-4845-a6e9-f584603f7314",
   "metadata": {},
   "outputs": [
    {
     "name": "stdout",
     "output_type": "stream",
     "text": [
      "WARNING:tensorflow:No training configuration found in save file, so the model was *not* compiled. Compile it manually.\n"
     ]
    },
    {
     "name": "stderr",
     "output_type": "stream",
     "text": [
      "WARNING:tensorflow:No training configuration found in save file, so the model was *not* compiled. Compile it manually.\n"
     ]
    },
    {
     "name": "stdout",
     "output_type": "stream",
     "text": [
      "WARNING:tensorflow:No training configuration found in save file, so the model was *not* compiled. Compile it manually.\n"
     ]
    },
    {
     "name": "stderr",
     "output_type": "stream",
     "text": [
      "WARNING:tensorflow:No training configuration found in save file, so the model was *not* compiled. Compile it manually.\n"
     ]
    }
   ],
   "source": [
    "from aisdc.safemodel.classifiers.safekeras import load_safe_keras_model\n",
    "\n",
    "reloaded_model = load_safe_keras_model(\"safe1.tf\")"
   ]
  },
  {
   "cell_type": "code",
   "execution_count": 94,
   "id": "81edbb6b-8a11-4574-8943-8da408d4e48e",
   "metadata": {},
   "outputs": [
    {
     "name": "stdout",
     "output_type": "stream",
     "text": [
      "8/8 [==============================] - 0s 4ms/step\n",
      "reloaded model training  accuracy:\n",
      "               precision    recall  f1-score   support\n",
      "\n",
      "           0       0.58      0.53      0.55       117\n",
      "           1       0.62      0.66      0.64       133\n",
      "\n",
      "    accuracy                           0.60       250\n",
      "   macro avg       0.60      0.60      0.60       250\n",
      "weighted avg       0.60      0.60      0.60       250\n",
      "\n"
     ]
    },
    {
     "name": "stderr",
     "output_type": "stream",
     "text": [
      "2022-10-31 16:05:08.292654: I tensorflow/core/grappler/optimizers/custom_graph_optimizer_registry.cc:114] Plugin optimizer for device_type GPU is enabled.\n"
     ]
    }
   ],
   "source": [
    "ypred = reloaded_model.predict(X)\n",
    "ylabels = np.argmax(y, axis=1)\n",
    "ypredlabels = np.argmax(ypred, axis=1)\n",
    "reloaded_cm = confusion_matrix(ylabels, ypredlabels)\n",
    "print(\n",
    "    f\"reloaded model training  accuracy:\\n {classification_report(ylabels,ypredlabels)}\"\n",
    ")"
   ]
  },
  {
   "cell_type": "code",
   "execution_count": null,
   "id": "32c0e0df-eeec-4e16-b0d8-b8bc9107267e",
   "metadata": {},
   "outputs": [],
   "source": []
  }
 ],
 "metadata": {
  "kernelspec": {
   "display_name": "Python 3 (ipykernel)",
   "language": "python",
   "name": "python3"
  },
  "language_info": {
   "codemirror_mode": {
    "name": "ipython",
    "version": 3
   },
   "file_extension": ".py",
   "mimetype": "text/x-python",
   "name": "python",
   "nbconvert_exporter": "python",
   "pygments_lexer": "ipython3",
   "version": "3.10.10"
  }
 },
 "nbformat": 4,
 "nbformat_minor": 5
}
