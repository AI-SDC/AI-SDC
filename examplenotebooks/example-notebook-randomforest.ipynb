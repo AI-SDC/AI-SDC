{
 "cells": [
  {
   "cell_type": "code",
   "execution_count": null,
   "id": "f96259b1",
   "metadata": {},
   "outputs": [],
   "source": [
    "import sys\n",
    "import os\n",
    "\n",
    "ROOT_DIR = os.path.dirname(os.path.dirname(os.path.abspath(\"\")))\n",
    "sys.path.append(ROOT_DIR)"
   ]
  },
  {
   "cell_type": "markdown",
   "id": "347ea4fc",
   "metadata": {},
   "source": [
    "## A Quick Start Guide to implementing Safer Random Forests\n",
    "\n",
    "### Lets start by making some data with one disclosive case\n",
    "- We'll do this by adding an example to the iris data and give it a new class to make things really obvious.\n",
    "- The same risks exist for more complex data sets but _everyone knows iris_"
   ]
  },
  {
   "cell_type": "code",
   "execution_count": null,
   "id": "6fa372c0",
   "metadata": {},
   "outputs": [],
   "source": [
    "import numpy as np\n",
    "from sklearn import datasets\n",
    "\n",
    "iris = datasets.load_iris()\n",
    "X = iris.data\n",
    "y = iris.target\n",
    "\n",
    "\n",
    "# print the max and min values in each feature to help hand-craft the disclosive point\n",
    "for feature in range(4):\n",
    "    print(f\"feature {feature} min {np.min(X[:,feature])}, min {np.max(X[:,feature])}\")\n",
    "\n",
    "# now add a single disclosve point with features [7,2,4.5,1] and label 3\n",
    "X = np.vstack([X, (7, 2.0, 4.5, 1)])\n",
    "y = np.append(y, 4)"
   ]
  },
  {
   "cell_type": "markdown",
   "id": "597b5d8b",
   "metadata": {},
   "source": [
    "## Some basic Libraries for visualization"
   ]
  },
  {
   "cell_type": "code",
   "execution_count": null,
   "id": "fb391f42",
   "metadata": {},
   "outputs": [],
   "source": [
    "from sklearn.tree import plot_tree\n",
    "import matplotlib.pyplot as plt"
   ]
  },
  {
   "cell_type": "markdown",
   "id": "4a847115",
   "metadata": {},
   "source": [
    "## Defining a new class SafeRandomForestClassifier¶\n",
    "-Don't forget to import the SafeModel classes."
   ]
  },
  {
   "cell_type": "code",
   "execution_count": null,
   "id": "02c6ffd6",
   "metadata": {},
   "outputs": [],
   "source": [
    "from safemodel.safemodel import SafeModel\n",
    "from safemodel.classifiers import SafeRandomForestClassifier"
   ]
  },
  {
   "cell_type": "code",
   "execution_count": null,
   "id": "6d617df5",
   "metadata": {},
   "outputs": [],
   "source": [
    "safeRFModel = SafeRandomForestClassifier(n_estimators=100)  # (criterion=\"entropy\")\n",
    "\n",
    "safeRFModel.fit(X, y)\n",
    "\n",
    "print(f\"Training set accuracy in this safe case is {safeRFModel.score(X,y)}\")\n",
    "fig, ax = plt.subplots(10, 10, figsize=(15, 15))\n",
    "for row in range(10):\n",
    "    for column in range(10):\n",
    "        whichTree = 10 * row + column\n",
    "        treeRowCol = safeRFModel.estimators_[whichTree]\n",
    "        _ = plot_tree(treeRowCol, filled=True, ax=ax[row][column], fontsize=1)"
   ]
  },
  {
   "cell_type": "markdown",
   "id": "64195133",
   "metadata": {},
   "source": [
    "## Using the save and reporting functionality¶"
   ]
  },
  {
   "cell_type": "code",
   "execution_count": null,
   "id": "d0936f2e",
   "metadata": {},
   "outputs": [],
   "source": [
    "safeRFModel.save(name=\"testSaveRF.pkl\")\n",
    "safeRFModel.preliminary_check()\n",
    "safeRFModel.request_release(\"testSaveRF.pkl\")"
   ]
  },
  {
   "cell_type": "markdown",
   "id": "cc069f60",
   "metadata": {},
   "source": [
    "## The checkfile reports any warnings and reccomendations in JSON format"
   ]
  },
  {
   "cell_type": "code",
   "execution_count": null,
   "id": "d1cdf236",
   "metadata": {},
   "outputs": [],
   "source": [
    "!echo \"contents of checkfile are\"; cat *_check*ile.json"
   ]
  },
  {
   "cell_type": "markdown",
   "id": "7139bae4",
   "metadata": {},
   "source": [
    "## Putting it all together\n",
    "-Don't forget to import the SafeModel classes."
   ]
  },
  {
   "cell_type": "code",
   "execution_count": null,
   "id": "548d74de",
   "metadata": {},
   "outputs": [],
   "source": [
    "from safemodel.safemodel import SafeModel\n",
    "from safemodel.classifiers import SafeRandomForestClassifier\n",
    "\n",
    "safeRFModel = SafeRandomForestClassifier(n_estimators=100)  # (criterion=\"entropy\")\n",
    "safeRFModel.fit(X, y)\n",
    "safeRFModel.save(name=\"testSaveRF.pkl\")\n",
    "safeRFModel.preliminary_check()\n",
    "safeRFModel.request_release(\"testSaveRF.pkl\")"
   ]
  },
  {
   "cell_type": "markdown",
   "id": "f7dc6f64",
   "metadata": {},
   "source": [
    "## Examine the checkfile contents\n"
   ]
  },
  {
   "cell_type": "code",
   "execution_count": null,
   "id": "377aa265",
   "metadata": {},
   "outputs": [],
   "source": [
    "!echo \"contents of checkfile are\"; cat *_check*ile.json"
   ]
  },
  {
   "cell_type": "code",
   "execution_count": null,
   "id": "2a769232",
   "metadata": {},
   "outputs": [],
   "source": []
  }
 ],
 "metadata": {
  "kernelspec": {
   "display_name": "Python 3 (ipykernel)",
   "language": "python",
   "name": "python3"
  },
  "language_info": {
   "codemirror_mode": {
    "name": "ipython",
    "version": 3
   },
   "file_extension": ".py",
   "mimetype": "text/x-python",
   "name": "python",
   "nbconvert_exporter": "python",
   "pygments_lexer": "ipython3",
   "version": "3.9.7"
  }
 },
 "nbformat": 4,
 "nbformat_minor": 5
}
